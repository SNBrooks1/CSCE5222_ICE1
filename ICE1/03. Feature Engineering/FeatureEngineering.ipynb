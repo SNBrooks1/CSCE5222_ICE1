{
 "cells": [
  {
   "cell_type": "markdown",
   "metadata": {},
   "source": [
    "# Feature Engineering"
   ]
  },
  {
   "cell_type": "markdown",
   "metadata": {},
   "source": [
    "The next step is to create features from the raw text so we can train the machine learning models. The steps followed are:\n",
    "\n",
    "1. **Text Cleaning and Preparation**: cleaning of special characters, downcasing, punctuation signs. possessive pronouns and stop words removal and lemmatization. \n",
    "2. **Label coding**: creation of a dictionary to map each category to a code.\n",
    "3. **Train-test split**: to test the models on unseen data.\n",
    "4. **Text representation**: use of TF-IDF scores to represent text."
   ]
  },
  {
   "cell_type": "code",
   "execution_count": 2,
   "metadata": {},
   "outputs": [],
   "source": [
    "# Data processing\n",
    "import nltk\n",
    "from nltk.corpus import stopwords\n",
    "from nltk.stem import WordNetLemmatizer\n",
    "import numpy as np\n",
    "import pandas as pd\n",
    "import pickle\n",
    "import re\n",
    "\n",
    "# Feature selections/extractions.\n",
    "from sklearn.feature_selection import chi2\n",
    "from sklearn.feature_extraction.text import TfidfVectorizer\n",
    "\n",
    "# Dataset splitting\n",
    "from sklearn.model_selection import train_test_split"
   ]
  },
  {
   "cell_type": "markdown",
   "metadata": {},
   "source": [
    "#### Load the dataset."
   ]
  },
  {
   "cell_type": "code",
   "execution_count": 3,
   "metadata": {},
   "outputs": [],
   "source": [
    "# Set the file path.\n",
    "path_df = '../02. EDA/AVArticles_dataset.pickle'\n",
    "\n",
    "# Create the dataframe from the pickle file.\n",
    "with open(path_df, 'rb') as data:\n",
    "    df = pickle.load(data)"
   ]
  },
  {
   "cell_type": "code",
   "execution_count": 4,
   "metadata": {},
   "outputs": [
    {
     "data": {
      "text/html": [
       "<div>\n",
       "<style scoped>\n",
       "    .dataframe tbody tr th:only-of-type {\n",
       "        vertical-align: middle;\n",
       "    }\n",
       "\n",
       "    .dataframe tbody tr th {\n",
       "        vertical-align: top;\n",
       "    }\n",
       "\n",
       "    .dataframe thead th {\n",
       "        text-align: right;\n",
       "    }\n",
       "</style>\n",
       "<table border=\"1\" class=\"dataframe\">\n",
       "  <thead>\n",
       "    <tr style=\"text-align: right;\">\n",
       "      <th></th>\n",
       "      <th>FileName</th>\n",
       "      <th>Content</th>\n",
       "      <th>Category</th>\n",
       "      <th>Complete_Filename</th>\n",
       "      <th>id</th>\n",
       "      <th>News_length</th>\n",
       "    </tr>\n",
       "  </thead>\n",
       "  <tbody>\n",
       "    <tr>\n",
       "      <th>0</th>\n",
       "      <td>na</td>\n",
       "      <td>Markets Tech Media Success Perspectives Videos...</td>\n",
       "      <td>tech</td>\n",
       "      <td>na</td>\n",
       "      <td>1</td>\n",
       "      <td>11121</td>\n",
       "    </tr>\n",
       "    <tr>\n",
       "      <th>1</th>\n",
       "      <td>na</td>\n",
       "      <td>Full Episode Tuesday , Sep 7 Close Menu PBS Ne...</td>\n",
       "      <td>tech</td>\n",
       "      <td>na</td>\n",
       "      <td>1</td>\n",
       "      <td>4906</td>\n",
       "    </tr>\n",
       "    <tr>\n",
       "      <th>2</th>\n",
       "      <td>na</td>\n",
       "      <td>Accessibility links Skip main content Keyboard...</td>\n",
       "      <td>tech</td>\n",
       "      <td>na</td>\n",
       "      <td>1</td>\n",
       "      <td>3062</td>\n",
       "    </tr>\n",
       "    <tr>\n",
       "      <th>3</th>\n",
       "      <td>na</td>\n",
       "      <td>Skip main content Search Brookings About Us Pr...</td>\n",
       "      <td>tech</td>\n",
       "      <td>na</td>\n",
       "      <td>1</td>\n",
       "      <td>15330</td>\n",
       "    </tr>\n",
       "  </tbody>\n",
       "</table>\n",
       "</div>"
      ],
      "text/plain": [
       "  FileName                                            Content Category  \\\n",
       "0       na  Markets Tech Media Success Perspectives Videos...     tech   \n",
       "1       na  Full Episode Tuesday , Sep 7 Close Menu PBS Ne...     tech   \n",
       "2       na  Accessibility links Skip main content Keyboard...     tech   \n",
       "3       na  Skip main content Search Brookings About Us Pr...     tech   \n",
       "\n",
       "  Complete_Filename  id  News_length  \n",
       "0                na   1        11121  \n",
       "1                na   1         4906  \n",
       "2                na   1         3062  \n",
       "3                na   1        15330  "
      ]
     },
     "execution_count": 4,
     "metadata": {},
     "output_type": "execute_result"
    }
   ],
   "source": [
    "df.head()"
   ]
  },
  {
   "cell_type": "markdown",
   "metadata": {},
   "source": [
    "And visualize one sample news content:"
   ]
  },
  {
   "cell_type": "code",
   "execution_count": 5,
   "metadata": {},
   "outputs": [
    {
     "data": {
      "text/plain": [
       "\"Full Episode Tuesday , Sep 7 Close Menu PBS NewsHour Episodes Podcasts Subscribe The Latest Politics Brooks Capehart Politics Monday Supreme Court Arts CANVAS Poetry Now Read This Nation Supreme Court Race Matters Essays Brief But Spectacular World Agents Change Economy Making Sen $ e Paul Solman Science The Leading Edge ScienceScope Basic Research Innovation Invention Health Long-Term Care Education Teachers ' Lounge Student Reporting Labs For Teachers About Feedback Funders Support Jobs Close Menu Educate inbox Subscribe Here ’ Deal , politics newsletter analysis ’ find anywhere else . Email Address Subscribe Form error message goes . Thank . Please check inbox confirm . Close Popup PBS NewsHour Menu Notifications Get news alerts PBS NewsHour Turn desktop notifications ? Yes Not Full Episodes Podcasts Subscribe Live By — Nana Adwoa Antwi-Boasiako Nana Adwoa Antwi-Boasiako By — Joshua Barajas Joshua Barajas Leave feedback Share Copy URL https : //www.pbs.org/newshour/nation/uber-launch-fleet-self-driving-volvos-will-pittsburgh-residents-hop Email Facebook Twitter LinkedIn Pinterest Tumblr Share Facebook Share Twitter Uber launch fleet self-driving Volvos . Will Pittsburgh residents hop ? Nation Aug 18 , 2016 6:05 PM EDT Ride-sharing service Uber announced plans start deploying self-driving cars Pittsburgh later month , marking first time evolving pricey technology reached general public . As part $ 300 million deal Volvo , Uber said produce fleet 100 self-driving XC90 vehicles test program end year , Bloomberg reported . Each vehicles Uber ’ fleet equipped driverless control system , including cameras , GPS tracking , sensors lasers help navigate road . The service also free anyone willing give try . But , , driver also present course-correct car , needed . “ Uber thing many companies , ” Bryant Walker Smith , engineering professor University South Carolina , told NewsHour . But big news Uber inviting general public self-driving cars , said . Walker Smith said consumers expect see changes transportation next couple years . Smith said Uber ’ decision opportunity public creators discuss pros cons autonomous driving . For one , Uber trying replace jobs drive company , said . There could number destruction certain industries , like taxi driver industry , “ public conversation , ” said . This also chance inform public self-driving technology , said . Although bonafide self-driving cars still unavailable , Google Silicon Valley giants tested semi-autonomous cars road years . The Tesla Model S alone costs , average , around $ 98,000 , according Edmunds.com . Uber CEO Travis Kalanick told Associated Press company ’ self-driving investments effort “ get No . 1 quick. ” “ We ’ got laser-focused getting market ’ side project us . This everything . This marbles Uber , ” told AP . Self-driving cars potential increase mobility , safety concerns remain , Walker Smith said . In June , Telsa driver ’ death brought lot scrutiny . It first recorded fatal accident involving self-driving car . What many forgot hundreds people died car accidents caused human drivers day , Walker Smith said . “ Nothing perfect , things fail sometimes , part making public informed , ” said . Uber ’ deal Volvo ’ mutually exclusive either , Bloomberg reported , adding Uber allowed work automakers . Also today , Uber announced acquired Otto , self-driving trucks startup , aid driverless car research . BBC ’ technology correspondent Rory Cellan-Jones said human element — supervisor front — Uber ’ plan “ caveat. ” “ Even Uber confident enough technology dispense human , neither Pittsburgh city ready adapt regulations allow completely autonomous driving , ” said . READ MORE : Deadly Tesla crash exposes confusion automated driving Left : An illustration picture shows logo car-sharing service app Uber smartphone next picture taxi sign . Photo illustration Kai Pfaffenbach/Reuters Go Deeper pittsburgh self-driving cars uber volvo By — Nana Adwoa Antwi-Boasiako Nana Adwoa Antwi-Boasiako By — Joshua Barajas Joshua Barajas Joshua Barajas arts editor NewsHour . He reached jbarajas @ newshour.org . @ Josh_Barrage Support Provided By : Learn Educate inbox Subscribe Here ’ Deal , politics newsletter analysis ’ find anywhere else . Email Address Subscribe Form error message goes . Thank . Please check inbox confirm . Full Episode Tuesday , Sep 7 Additional Support Provided By : PBS NewsHour © 1996 - 2021 NewsHour Productions LLC . All Rights Reserved . Sections The Latest Politics Arts Nation World Economy Science Health Education About About Us TV Schedule Press Feedback Funders Support Subscribe NewsHour West Jobs Privacy Stay Connected Facebook Twitter YouTube RSS Subscribe ‘ Here 's Deal , ’ politics newsletter Email Address Subscribe Form error message goes . Thank . Please check inbox confirm . Support journalism Learn Friends NewsHour . Support NewsHour Provided By\""
      ]
     },
     "execution_count": 5,
     "metadata": {},
     "output_type": "execute_result"
    }
   ],
   "source": [
    "# Output index 1 row for column Content.\n",
    "df.loc[1]['Content']"
   ]
  },
  {
   "cell_type": "markdown",
   "metadata": {},
   "source": [
    "## 1. Text cleaning and preparation"
   ]
  },
  {
   "cell_type": "markdown",
   "metadata": {},
   "source": [
    "### 1.1. Special character cleaning\n",
    "\n",
    "We can see the following special characters:\n",
    "\n",
    "* ``\\r``\n",
    "* ``\\n``\n",
    "* ``\\`` before possessive pronouns (`government's = government\\'s`)\n",
    "* ``\\`` before possessive pronouns 2 (`Yukos'` = `Yukos\\'`)\n",
    "* ``\"`` when quoting text"
   ]
  },
  {
   "cell_type": "code",
   "execution_count": 6,
   "metadata": {},
   "outputs": [],
   "source": [
    "# Replace double space, \\r, and \\n with single spaces.\n",
    "df['Content_Parsed_1'] = df['Content'].str.replace(\"\\r\", \" \")\n",
    "df['Content_Parsed_1'] = df['Content_Parsed_1'].str.replace(\"\\n\", \" \")\n",
    "df['Content_Parsed_1'] = df['Content_Parsed_1'].str.replace(\"    \", \" \")"
   ]
  },
  {
   "cell_type": "markdown",
   "metadata": {},
   "source": [
    "Regarding 3rd and 4th bullet, although it seems there is a special character, it won't affect us since it is not a *real* character:"
   ]
  },
  {
   "cell_type": "code",
   "execution_count": 7,
   "metadata": {},
   "outputs": [],
   "source": [
    "# \" when quoting text\n",
    "df['Content_Parsed_1'] = df['Content_Parsed_1'].str.replace('\"', '')"
   ]
  },
  {
   "cell_type": "markdown",
   "metadata": {},
   "source": [
    "### 1.2. Upcase/downcase"
   ]
  },
  {
   "cell_type": "markdown",
   "metadata": {},
   "source": [
    "We'll downcase the texts because we want, for example, `Football` and `football` to be the same word."
   ]
  },
  {
   "cell_type": "code",
   "execution_count": 8,
   "metadata": {},
   "outputs": [],
   "source": [
    "# Lowercasing the text\n",
    "df['Content_Parsed_2'] = df['Content_Parsed_1'].str.lower()"
   ]
  },
  {
   "cell_type": "markdown",
   "metadata": {},
   "source": [
    "### 1.3. Punctuation signs"
   ]
  },
  {
   "cell_type": "markdown",
   "metadata": {},
   "source": [
    "Punctuation signs won't have any predicting power, so we'll just get rid of them."
   ]
  },
  {
   "cell_type": "code",
   "execution_count": 9,
   "metadata": {},
   "outputs": [],
   "source": [
    "# Set the punctuation signs.\n",
    "punctuation_signs = list(\"?:!.,;\")\n",
    "\n",
    "# Create a copy of column, Content_Parsed_2\n",
    "df['Content_Parsed_3'] = df['Content_Parsed_2']\n",
    "\n",
    "# Remove punctuation signs from column, Content_Parsed_3.\n",
    "for punct_sign in punctuation_signs:\n",
    "    df['Content_Parsed_3'] = df['Content_Parsed_3'].str.replace(punct_sign, '')"
   ]
  },
  {
   "cell_type": "markdown",
   "metadata": {},
   "source": [
    "By doing this we are messing up with some numbers, but it's no problem since we aren't expecting any predicting power from them."
   ]
  },
  {
   "cell_type": "markdown",
   "metadata": {},
   "source": [
    "### 1.4. Possessive pronouns"
   ]
  },
  {
   "cell_type": "markdown",
   "metadata": {},
   "source": [
    "We'll also remove possessive pronoun terminations:"
   ]
  },
  {
   "cell_type": "code",
   "execution_count": 10,
   "metadata": {},
   "outputs": [],
   "source": [
    "# Create a copy of column, Content_Parsed_3 with \"'s\" removed.\n",
    "df['Content_Parsed_4'] = df['Content_Parsed_3'].str.replace(\"'s\", \"\")"
   ]
  },
  {
   "cell_type": "markdown",
   "metadata": {},
   "source": [
    "### 1.5. Stemming and Lemmatization\n",
    "\n",
    "Since stemming can produce output words that don't exist, we'll only use a lemmatization process at this moment. Lemmatization takes into consideration the morphological analysis of the words and returns words that do exist, so it will be more useful for us."
   ]
  },
  {
   "cell_type": "code",
   "execution_count": 11,
   "metadata": {},
   "outputs": [
    {
     "name": "stdout",
     "output_type": "stream",
     "text": [
      "------------------------------------------------------------\n"
     ]
    },
    {
     "name": "stderr",
     "output_type": "stream",
     "text": [
      "[nltk_data] Downloading package punkt to\n",
      "[nltk_data]     C:\\Users\\School\\AppData\\Roaming\\nltk_data...\n",
      "[nltk_data]   Package punkt is already up-to-date!\n",
      "[nltk_data] Downloading package wordnet to\n",
      "[nltk_data]     C:\\Users\\School\\AppData\\Roaming\\nltk_data...\n",
      "[nltk_data]   Package wordnet is already up-to-date!\n"
     ]
    },
    {
     "data": {
      "text/plain": [
       "True"
      ]
     },
     "execution_count": 11,
     "metadata": {},
     "output_type": "execute_result"
    }
   ],
   "source": [
    "# Downloading punkt and wordnet from NLTK\n",
    "nltk.download('punkt')\n",
    "print(\"------------------------------------------------------------\")\n",
    "nltk.download('wordnet')"
   ]
  },
  {
   "cell_type": "code",
   "execution_count": 12,
   "metadata": {},
   "outputs": [],
   "source": [
    "# Saving the lemmatizer into an object\n",
    "wordnet_lemmatizer = WordNetLemmatizer()"
   ]
  },
  {
   "cell_type": "markdown",
   "metadata": {},
   "source": [
    "In order to lemmatize, we have to iterate through every word:"
   ]
  },
  {
   "cell_type": "code",
   "execution_count": 13,
   "metadata": {},
   "outputs": [],
   "source": [
    "#Sets the number of rows in the dataframe.\n",
    "nrows = len(df)\n",
    "lemmatized_text_list = []\n",
    "\n",
    "for row in range(0, nrows):\n",
    "    \n",
    "    # Create an empty list containing lemmatized words\n",
    "    lemmatized_list = []\n",
    "    \n",
    "    # Save the text and its words into an object\n",
    "    text = df.loc[row]['Content_Parsed_4']\n",
    "    text_words = text.split(\" \")\n",
    "\n",
    "    # Iterate through every word to lemmatize\n",
    "    for word in text_words:\n",
    "        lemmatized_list.append(wordnet_lemmatizer.lemmatize(word, pos=\"v\"))\n",
    "        \n",
    "    # Join the list\n",
    "    lemmatized_text = \" \".join(lemmatized_list)\n",
    "    \n",
    "    # Append to the list containing the texts\n",
    "    lemmatized_text_list.append(lemmatized_text)"
   ]
  },
  {
   "cell_type": "code",
   "execution_count": 14,
   "metadata": {},
   "outputs": [],
   "source": [
    "# Creates a new column from the lemmatized_text_list.\n",
    "df['Content_Parsed_5'] = lemmatized_text_list"
   ]
  },
  {
   "cell_type": "markdown",
   "metadata": {},
   "source": [
    "Although lemmatization doesn't work perfectly in all cases (as can be seen in the example below), it can be useful."
   ]
  },
  {
   "cell_type": "markdown",
   "metadata": {},
   "source": [
    "### 1.6. Stop words"
   ]
  },
  {
   "cell_type": "code",
   "execution_count": 15,
   "metadata": {},
   "outputs": [
    {
     "name": "stderr",
     "output_type": "stream",
     "text": [
      "[nltk_data] Downloading package stopwords to\n",
      "[nltk_data]     C:\\Users\\School\\AppData\\Roaming\\nltk_data...\n",
      "[nltk_data]   Package stopwords is already up-to-date!\n"
     ]
    },
    {
     "data": {
      "text/plain": [
       "True"
      ]
     },
     "execution_count": 15,
     "metadata": {},
     "output_type": "execute_result"
    }
   ],
   "source": [
    "# Downloading the stop words list\n",
    "nltk.download('stopwords')"
   ]
  },
  {
   "cell_type": "code",
   "execution_count": 16,
   "metadata": {},
   "outputs": [],
   "source": [
    "# Loading the stop words in english\n",
    "stop_words = list(stopwords.words('english'))"
   ]
  },
  {
   "cell_type": "code",
   "execution_count": 17,
   "metadata": {},
   "outputs": [
    {
     "data": {
      "text/plain": [
       "['i', 'me', 'my', 'myself', 'we', 'our', 'ours', 'ourselves', 'you', \"you're\"]"
      ]
     },
     "execution_count": 17,
     "metadata": {},
     "output_type": "execute_result"
    }
   ],
   "source": [
    "stop_words[0:10]"
   ]
  },
  {
   "cell_type": "markdown",
   "metadata": {},
   "source": [
    "We can now loop through all the stop words:"
   ]
  },
  {
   "cell_type": "code",
   "execution_count": 19,
   "metadata": {},
   "outputs": [],
   "source": [
    "df['Content_Parsed_6'] = df['Content_Parsed_5']\n",
    "\n",
    "for stop_word in stop_words:\n",
    "\n",
    "    regex_stopword = r\"\\b\" + stop_word + r\"\\b\"\n",
    "    df['Content_Parsed_6'] = df['Content_Parsed_6'].str.replace(regex_stopword, '')"
   ]
  },
  {
   "cell_type": "markdown",
   "metadata": {},
   "source": [
    "We have some dobule/triple spaces between words because of the replacements. However, it's not a problem because we'll tokenize by the spaces later."
   ]
  },
  {
   "cell_type": "markdown",
   "metadata": {},
   "source": [
    "As an example, we'll show an original news article and its modifications throughout the process:"
   ]
  },
  {
   "cell_type": "code",
   "execution_count": 20,
   "metadata": {},
   "outputs": [
    {
     "data": {
      "text/plain": [
       "\"Accessibility links Skip main content Keyboard shortcuts audio player Open Navigation Menu NPR Shop Close Navigation Menu Home News Expand/collapse submenu News National World Politics Business Health Science Climate Race Arts & Life Expand/collapse submenu Arts & Life Books Movies Television Pop Culture Food Art & Design Performing Arts Life Kit Music Expand/collapse submenu Music # NowPlaying Tiny Desk All Songs Considered Music News Music Features Live Sessions Shows & Podcasts Expand/collapse submenu Shows & Podcasts Daily Morning Edition Weekend Edition Saturday Weekend Edition Sunday All Things Considered Fresh Air Up First Featured No Compromise On Our Watch Throughline Rough Translation More Shows & Podcasts Search NPR Shop # NowPlaying Tiny Desk All Songs Considered Music News Music Features Live Sessions About NPR Diversity Organization Support Careers Connect Press Ethics California Approves A Pilot Program For Driverless Rides California allowing company Cruise offer free rides passengers driverless cars — without safety drivers board . Technology California Approves A Pilot Program For Driverless Rides Facebook Twitter Flipboard Email June 5 , 2021 7:23 PM ET Dustin Jones Twitter Enlarge image Cruise , self-driving car service San Francisco , granted driverless vehicle permit state 's autonomous vehicle pilot program . Cruise , LLC hide caption toggle caption Cruise , LLC Cruise , self-driving car service San Francisco , granted driverless vehicle permit state 's autonomous vehicle pilot program . Cruise , LLC The California Public Utilities Commission announced Friday Cruise , self-driving car service San Francisco , authorized participate state 's first pilot program provide driverless ride services public . The company allowed charge passengers rides . Eight companies permits testing driverless vehicles California , Cruise company approved giving rides passengers without safety driver board . However , vehicles still link remote safety operator . So far , Cruise says autonomous cars logged 2 million miles driven California . The company also 300 all-electric autonomous vehicles operating San Francisco Phoenix . Cruise acquired General Motors 2016 big investments Softbank , Honda , T. Rowe Price , Microsoft Walmart . Many vehicles road today already implement level automation technology , National Highway Traffic Safety Administration breaks various levels . Despite rise automated vehicle technology , American Automobile Association survey conducted January found drivers hesitant get self-driving car . The study suggests 14 % drivers trust car driving , 54 % afraid try remaining 32 % unsure . Facebook Twitter Flipboard Email Read & Listen Home News Arts & Life Music Podcasts Programs Connect Newsletters Facebook Twitter Instagram Press Contact & Help About NPR Overview Diversity Ethics Finances Public Editor Corrections Get Involved Support Public Radio Sponsor NPR NPR Careers NPR Shop NPR Events NPR Extra Terms Use Privacy Your Privacy Choices Text Only NPR thanks sponsors Become NPR sponsor\""
      ]
     },
     "execution_count": 20,
     "metadata": {},
     "output_type": "execute_result"
    }
   ],
   "source": [
    "df.loc[2]['Content']"
   ]
  },
  {
   "cell_type": "markdown",
   "metadata": {},
   "source": [
    "1. Special character cleaning"
   ]
  },
  {
   "cell_type": "code",
   "execution_count": 21,
   "metadata": {},
   "outputs": [
    {
     "data": {
      "text/plain": [
       "\"Accessibility links Skip main content Keyboard shortcuts audio player Open Navigation Menu NPR Shop Close Navigation Menu Home News Expand/collapse submenu News National World Politics Business Health Science Climate Race Arts & Life Expand/collapse submenu Arts & Life Books Movies Television Pop Culture Food Art & Design Performing Arts Life Kit Music Expand/collapse submenu Music # NowPlaying Tiny Desk All Songs Considered Music News Music Features Live Sessions Shows & Podcasts Expand/collapse submenu Shows & Podcasts Daily Morning Edition Weekend Edition Saturday Weekend Edition Sunday All Things Considered Fresh Air Up First Featured No Compromise On Our Watch Throughline Rough Translation More Shows & Podcasts Search NPR Shop # NowPlaying Tiny Desk All Songs Considered Music News Music Features Live Sessions About NPR Diversity Organization Support Careers Connect Press Ethics California Approves A Pilot Program For Driverless Rides California allowing company Cruise offer free rides passengers driverless cars — without safety drivers board . Technology California Approves A Pilot Program For Driverless Rides Facebook Twitter Flipboard Email June 5 , 2021 7:23 PM ET Dustin Jones Twitter Enlarge image Cruise , self-driving car service San Francisco , granted driverless vehicle permit state 's autonomous vehicle pilot program . Cruise , LLC hide caption toggle caption Cruise , LLC Cruise , self-driving car service San Francisco , granted driverless vehicle permit state 's autonomous vehicle pilot program . Cruise , LLC The California Public Utilities Commission announced Friday Cruise , self-driving car service San Francisco , authorized participate state 's first pilot program provide driverless ride services public . The company allowed charge passengers rides . Eight companies permits testing driverless vehicles California , Cruise company approved giving rides passengers without safety driver board . However , vehicles still link remote safety operator . So far , Cruise says autonomous cars logged 2 million miles driven California . The company also 300 all-electric autonomous vehicles operating San Francisco Phoenix . Cruise acquired General Motors 2016 big investments Softbank , Honda , T. Rowe Price , Microsoft Walmart . Many vehicles road today already implement level automation technology , National Highway Traffic Safety Administration breaks various levels . Despite rise automated vehicle technology , American Automobile Association survey conducted January found drivers hesitant get self-driving car . The study suggests 14 % drivers trust car driving , 54 % afraid try remaining 32 % unsure . Facebook Twitter Flipboard Email Read & Listen Home News Arts & Life Music Podcasts Programs Connect Newsletters Facebook Twitter Instagram Press Contact & Help About NPR Overview Diversity Ethics Finances Public Editor Corrections Get Involved Support Public Radio Sponsor NPR NPR Careers NPR Shop NPR Events NPR Extra Terms Use Privacy Your Privacy Choices Text Only NPR thanks sponsors Become NPR sponsor\""
      ]
     },
     "execution_count": 21,
     "metadata": {},
     "output_type": "execute_result"
    }
   ],
   "source": [
    "df.loc[2]['Content_Parsed_1']"
   ]
  },
  {
   "cell_type": "markdown",
   "metadata": {},
   "source": [
    "2. Upcase/downcase"
   ]
  },
  {
   "cell_type": "code",
   "execution_count": 22,
   "metadata": {},
   "outputs": [
    {
     "data": {
      "text/plain": [
       "\"accessibility links skip main content keyboard shortcuts audio player open navigation menu npr shop close navigation menu home news expand/collapse submenu news national world politics business health science climate race arts & life expand/collapse submenu arts & life books movies television pop culture food art & design performing arts life kit music expand/collapse submenu music # nowplaying tiny desk all songs considered music news music features live sessions shows & podcasts expand/collapse submenu shows & podcasts daily morning edition weekend edition saturday weekend edition sunday all things considered fresh air up first featured no compromise on our watch throughline rough translation more shows & podcasts search npr shop # nowplaying tiny desk all songs considered music news music features live sessions about npr diversity organization support careers connect press ethics california approves a pilot program for driverless rides california allowing company cruise offer free rides passengers driverless cars — without safety drivers board . technology california approves a pilot program for driverless rides facebook twitter flipboard email june 5 , 2021 7:23 pm et dustin jones twitter enlarge image cruise , self-driving car service san francisco , granted driverless vehicle permit state 's autonomous vehicle pilot program . cruise , llc hide caption toggle caption cruise , llc cruise , self-driving car service san francisco , granted driverless vehicle permit state 's autonomous vehicle pilot program . cruise , llc the california public utilities commission announced friday cruise , self-driving car service san francisco , authorized participate state 's first pilot program provide driverless ride services public . the company allowed charge passengers rides . eight companies permits testing driverless vehicles california , cruise company approved giving rides passengers without safety driver board . however , vehicles still link remote safety operator . so far , cruise says autonomous cars logged 2 million miles driven california . the company also 300 all-electric autonomous vehicles operating san francisco phoenix . cruise acquired general motors 2016 big investments softbank , honda , t. rowe price , microsoft walmart . many vehicles road today already implement level automation technology , national highway traffic safety administration breaks various levels . despite rise automated vehicle technology , american automobile association survey conducted january found drivers hesitant get self-driving car . the study suggests 14 % drivers trust car driving , 54 % afraid try remaining 32 % unsure . facebook twitter flipboard email read & listen home news arts & life music podcasts programs connect newsletters facebook twitter instagram press contact & help about npr overview diversity ethics finances public editor corrections get involved support public radio sponsor npr npr careers npr shop npr events npr extra terms use privacy your privacy choices text only npr thanks sponsors become npr sponsor\""
      ]
     },
     "execution_count": 22,
     "metadata": {},
     "output_type": "execute_result"
    }
   ],
   "source": [
    "df.loc[2]['Content_Parsed_2']"
   ]
  },
  {
   "cell_type": "markdown",
   "metadata": {},
   "source": [
    "3. Punctuation signs"
   ]
  },
  {
   "cell_type": "code",
   "execution_count": 23,
   "metadata": {},
   "outputs": [
    {
     "data": {
      "text/plain": [
       "\"accessibility links skip main content keyboard shortcuts audio player open navigation menu npr shop close navigation menu home news expand/collapse submenu news national world politics business health science climate race arts & life expand/collapse submenu arts & life books movies television pop culture food art & design performing arts life kit music expand/collapse submenu music # nowplaying tiny desk all songs considered music news music features live sessions shows & podcasts expand/collapse submenu shows & podcasts daily morning edition weekend edition saturday weekend edition sunday all things considered fresh air up first featured no compromise on our watch throughline rough translation more shows & podcasts search npr shop # nowplaying tiny desk all songs considered music news music features live sessions about npr diversity organization support careers connect press ethics california approves a pilot program for driverless rides california allowing company cruise offer free rides passengers driverless cars — without safety drivers board  technology california approves a pilot program for driverless rides facebook twitter flipboard email june 5  2021 723 pm et dustin jones twitter enlarge image cruise  self-driving car service san francisco  granted driverless vehicle permit state 's autonomous vehicle pilot program  cruise  llc hide caption toggle caption cruise  llc cruise  self-driving car service san francisco  granted driverless vehicle permit state 's autonomous vehicle pilot program  cruise  llc the california public utilities commission announced friday cruise  self-driving car service san francisco  authorized participate state 's first pilot program provide driverless ride services public  the company allowed charge passengers rides  eight companies permits testing driverless vehicles california  cruise company approved giving rides passengers without safety driver board  however  vehicles still link remote safety operator  so far  cruise says autonomous cars logged 2 million miles driven california  the company also 300 all-electric autonomous vehicles operating san francisco phoenix  cruise acquired general motors 2016 big investments softbank  honda  t rowe price  microsoft walmart  many vehicles road today already implement level automation technology  national highway traffic safety administration breaks various levels  despite rise automated vehicle technology  american automobile association survey conducted january found drivers hesitant get self-driving car  the study suggests 14 % drivers trust car driving  54 % afraid try remaining 32 % unsure  facebook twitter flipboard email read & listen home news arts & life music podcasts programs connect newsletters facebook twitter instagram press contact & help about npr overview diversity ethics finances public editor corrections get involved support public radio sponsor npr npr careers npr shop npr events npr extra terms use privacy your privacy choices text only npr thanks sponsors become npr sponsor\""
      ]
     },
     "execution_count": 23,
     "metadata": {},
     "output_type": "execute_result"
    }
   ],
   "source": [
    "df.loc[2]['Content_Parsed_3']"
   ]
  },
  {
   "cell_type": "markdown",
   "metadata": {},
   "source": [
    "4. Possessive pronouns"
   ]
  },
  {
   "cell_type": "code",
   "execution_count": 24,
   "metadata": {},
   "outputs": [
    {
     "data": {
      "text/plain": [
       "'accessibility links skip main content keyboard shortcuts audio player open navigation menu npr shop close navigation menu home news expand/collapse submenu news national world politics business health science climate race arts & life expand/collapse submenu arts & life books movies television pop culture food art & design performing arts life kit music expand/collapse submenu music # nowplaying tiny desk all songs considered music news music features live sessions shows & podcasts expand/collapse submenu shows & podcasts daily morning edition weekend edition saturday weekend edition sunday all things considered fresh air up first featured no compromise on our watch throughline rough translation more shows & podcasts search npr shop # nowplaying tiny desk all songs considered music news music features live sessions about npr diversity organization support careers connect press ethics california approves a pilot program for driverless rides california allowing company cruise offer free rides passengers driverless cars — without safety drivers board  technology california approves a pilot program for driverless rides facebook twitter flipboard email june 5  2021 723 pm et dustin jones twitter enlarge image cruise  self-driving car service san francisco  granted driverless vehicle permit state  autonomous vehicle pilot program  cruise  llc hide caption toggle caption cruise  llc cruise  self-driving car service san francisco  granted driverless vehicle permit state  autonomous vehicle pilot program  cruise  llc the california public utilities commission announced friday cruise  self-driving car service san francisco  authorized participate state  first pilot program provide driverless ride services public  the company allowed charge passengers rides  eight companies permits testing driverless vehicles california  cruise company approved giving rides passengers without safety driver board  however  vehicles still link remote safety operator  so far  cruise says autonomous cars logged 2 million miles driven california  the company also 300 all-electric autonomous vehicles operating san francisco phoenix  cruise acquired general motors 2016 big investments softbank  honda  t rowe price  microsoft walmart  many vehicles road today already implement level automation technology  national highway traffic safety administration breaks various levels  despite rise automated vehicle technology  american automobile association survey conducted january found drivers hesitant get self-driving car  the study suggests 14 % drivers trust car driving  54 % afraid try remaining 32 % unsure  facebook twitter flipboard email read & listen home news arts & life music podcasts programs connect newsletters facebook twitter instagram press contact & help about npr overview diversity ethics finances public editor corrections get involved support public radio sponsor npr npr careers npr shop npr events npr extra terms use privacy your privacy choices text only npr thanks sponsors become npr sponsor'"
      ]
     },
     "execution_count": 24,
     "metadata": {},
     "output_type": "execute_result"
    }
   ],
   "source": [
    "df.loc[2]['Content_Parsed_4']"
   ]
  },
  {
   "cell_type": "markdown",
   "metadata": {},
   "source": [
    "5. Stemming and Lemmatization"
   ]
  },
  {
   "cell_type": "code",
   "execution_count": 25,
   "metadata": {},
   "outputs": [
    {
     "data": {
      "text/plain": [
       "'accessibility link skip main content keyboard shortcuts audio player open navigation menu npr shop close navigation menu home news expand/collapse submenu news national world politics business health science climate race arts & life expand/collapse submenu arts & life book movies television pop culture food art & design perform arts life kit music expand/collapse submenu music # nowplaying tiny desk all songs consider music news music feature live sessions show & podcast expand/collapse submenu show & podcast daily morning edition weekend edition saturday weekend edition sunday all things consider fresh air up first feature no compromise on our watch throughline rough translation more show & podcast search npr shop # nowplaying tiny desk all songs consider music news music feature live sessions about npr diversity organization support career connect press ethics california approve a pilot program for driverless rid california allow company cruise offer free rid passengers driverless cars — without safety drivers board  technology california approve a pilot program for driverless rid facebook twitter flipboard email june 5  2021 723 pm et dustin jones twitter enlarge image cruise  self-driving car service san francisco  grant driverless vehicle permit state  autonomous vehicle pilot program  cruise  llc hide caption toggle caption cruise  llc cruise  self-driving car service san francisco  grant driverless vehicle permit state  autonomous vehicle pilot program  cruise  llc the california public utilities commission announce friday cruise  self-driving car service san francisco  authorize participate state  first pilot program provide driverless ride service public  the company allow charge passengers rid  eight company permit test driverless vehicles california  cruise company approve give rid passengers without safety driver board  however  vehicles still link remote safety operator  so far  cruise say autonomous cars log 2 million miles drive california  the company also 300 all-electric autonomous vehicles operate san francisco phoenix  cruise acquire general motor 2016 big investments softbank  honda  t rowe price  microsoft walmart  many vehicles road today already implement level automation technology  national highway traffic safety administration break various level  despite rise automate vehicle technology  american automobile association survey conduct january find drivers hesitant get self-driving car  the study suggest 14 % drivers trust car drive  54 % afraid try remain 32 % unsure  facebook twitter flipboard email read & listen home news arts & life music podcast program connect newsletters facebook twitter instagram press contact & help about npr overview diversity ethics finance public editor corrections get involve support public radio sponsor npr npr career npr shop npr events npr extra term use privacy your privacy choices text only npr thank sponsor become npr sponsor'"
      ]
     },
     "execution_count": 25,
     "metadata": {},
     "output_type": "execute_result"
    }
   ],
   "source": [
    "df.loc[2]['Content_Parsed_5']"
   ]
  },
  {
   "cell_type": "markdown",
   "metadata": {},
   "source": [
    "6. Stop words"
   ]
  },
  {
   "cell_type": "code",
   "execution_count": 26,
   "metadata": {},
   "outputs": [
    {
     "data": {
      "text/plain": [
       "'accessibility link skip main content keyboard shortcuts audio player open navigation menu npr shop close navigation menu home news expand/collapse submenu news national world politics business health science climate race arts & life expand/collapse submenu arts & life book movies television pop culture food art & design perform arts life kit music expand/collapse submenu music # nowplaying tiny desk  songs consider music news music feature live sessions show & podcast expand/collapse submenu show & podcast daily morning edition weekend edition saturday weekend edition sunday  things consider fresh air  first feature  compromise   watch throughline rough translation  show & podcast search npr shop # nowplaying tiny desk  songs consider music news music feature live sessions  npr diversity organization support career connect press ethics california approve  pilot program  driverless rid california allow company cruise offer free rid passengers driverless cars — without safety drivers board  technology california approve  pilot program  driverless rid facebook twitter flipboard email june 5  2021 723 pm et dustin jones twitter enlarge image cruise  self-driving car service san francisco  grant driverless vehicle permit state  autonomous vehicle pilot program  cruise  llc hide caption toggle caption cruise  llc cruise  self-driving car service san francisco  grant driverless vehicle permit state  autonomous vehicle pilot program  cruise  llc  california public utilities commission announce friday cruise  self-driving car service san francisco  authorize participate state  first pilot program provide driverless ride service public   company allow charge passengers rid  eight company permit test driverless vehicles california  cruise company approve give rid passengers without safety driver board  however  vehicles still link remote safety operator   far  cruise say autonomous cars log 2 million miles drive california   company also 300 -electric autonomous vehicles operate san francisco phoenix  cruise acquire general motor 2016 big investments softbank  honda   rowe price  microsoft walmart  many vehicles road today already implement level automation technology  national highway traffic safety administration break various level  despite rise automate vehicle technology  american automobile association survey conduct january find drivers hesitant get self-driving car   study suggest 14 % drivers trust car drive  54 % afraid try remain 32 % unsure  facebook twitter flipboard email read & listen home news arts & life music podcast program connect newsletters facebook twitter instagram press contact & help  npr overview diversity ethics finance public editor corrections get involve support public radio sponsor npr npr career npr shop npr events npr extra term use privacy  privacy choices text  npr thank sponsor become npr sponsor'"
      ]
     },
     "execution_count": 26,
     "metadata": {},
     "output_type": "execute_result"
    }
   ],
   "source": [
    "df.loc[2]['Content_Parsed_6']"
   ]
  },
  {
   "cell_type": "markdown",
   "metadata": {},
   "source": [
    "Finally, we can delete the intermediate columns:"
   ]
  },
  {
   "cell_type": "code",
   "execution_count": 27,
   "metadata": {},
   "outputs": [
    {
     "data": {
      "text/html": [
       "<div>\n",
       "<style scoped>\n",
       "    .dataframe tbody tr th:only-of-type {\n",
       "        vertical-align: middle;\n",
       "    }\n",
       "\n",
       "    .dataframe tbody tr th {\n",
       "        vertical-align: top;\n",
       "    }\n",
       "\n",
       "    .dataframe thead th {\n",
       "        text-align: right;\n",
       "    }\n",
       "</style>\n",
       "<table border=\"1\" class=\"dataframe\">\n",
       "  <thead>\n",
       "    <tr style=\"text-align: right;\">\n",
       "      <th></th>\n",
       "      <th>FileName</th>\n",
       "      <th>Content</th>\n",
       "      <th>Category</th>\n",
       "      <th>Complete_Filename</th>\n",
       "      <th>id</th>\n",
       "      <th>News_length</th>\n",
       "      <th>Content_Parsed_1</th>\n",
       "      <th>Content_Parsed_2</th>\n",
       "      <th>Content_Parsed_3</th>\n",
       "      <th>Content_Parsed_4</th>\n",
       "      <th>Content_Parsed_5</th>\n",
       "      <th>Content_Parsed_6</th>\n",
       "    </tr>\n",
       "  </thead>\n",
       "  <tbody>\n",
       "    <tr>\n",
       "      <th>0</th>\n",
       "      <td>na</td>\n",
       "      <td>Markets Tech Media Success Perspectives Videos...</td>\n",
       "      <td>tech</td>\n",
       "      <td>na</td>\n",
       "      <td>1</td>\n",
       "      <td>11121</td>\n",
       "      <td>Markets Tech Media Success Perspectives Videos...</td>\n",
       "      <td>markets tech media success perspectives videos...</td>\n",
       "      <td>markets tech media success perspectives videos...</td>\n",
       "      <td>markets tech media success perspectives videos...</td>\n",
       "      <td>market tech media success perspectives videos ...</td>\n",
       "      <td>market tech media success perspectives videos ...</td>\n",
       "    </tr>\n",
       "  </tbody>\n",
       "</table>\n",
       "</div>"
      ],
      "text/plain": [
       "  FileName                                            Content Category  \\\n",
       "0       na  Markets Tech Media Success Perspectives Videos...     tech   \n",
       "\n",
       "  Complete_Filename  id  News_length  \\\n",
       "0                na   1        11121   \n",
       "\n",
       "                                    Content_Parsed_1  \\\n",
       "0  Markets Tech Media Success Perspectives Videos...   \n",
       "\n",
       "                                    Content_Parsed_2  \\\n",
       "0  markets tech media success perspectives videos...   \n",
       "\n",
       "                                    Content_Parsed_3  \\\n",
       "0  markets tech media success perspectives videos...   \n",
       "\n",
       "                                    Content_Parsed_4  \\\n",
       "0  markets tech media success perspectives videos...   \n",
       "\n",
       "                                    Content_Parsed_5  \\\n",
       "0  market tech media success perspectives videos ...   \n",
       "\n",
       "                                    Content_Parsed_6  \n",
       "0  market tech media success perspectives videos ...  "
      ]
     },
     "execution_count": 27,
     "metadata": {},
     "output_type": "execute_result"
    }
   ],
   "source": [
    "df.head(1)"
   ]
  },
  {
   "cell_type": "code",
   "execution_count": 28,
   "metadata": {},
   "outputs": [],
   "source": [
    "list_columns = [\"FileName\", \"Category\", \"Complete_Filename\", \"Content\", \"Content_Parsed_6\"]\n",
    "df = df[list_columns]\n",
    "\n",
    "df = df.rename(columns={'Content_Parsed_6': 'Content_Parsed'})"
   ]
  },
  {
   "cell_type": "code",
   "execution_count": 29,
   "metadata": {
    "scrolled": true
   },
   "outputs": [
    {
     "data": {
      "text/html": [
       "<div>\n",
       "<style scoped>\n",
       "    .dataframe tbody tr th:only-of-type {\n",
       "        vertical-align: middle;\n",
       "    }\n",
       "\n",
       "    .dataframe tbody tr th {\n",
       "        vertical-align: top;\n",
       "    }\n",
       "\n",
       "    .dataframe thead th {\n",
       "        text-align: right;\n",
       "    }\n",
       "</style>\n",
       "<table border=\"1\" class=\"dataframe\">\n",
       "  <thead>\n",
       "    <tr style=\"text-align: right;\">\n",
       "      <th></th>\n",
       "      <th>FileName</th>\n",
       "      <th>Category</th>\n",
       "      <th>Complete_Filename</th>\n",
       "      <th>Content</th>\n",
       "      <th>Content_Parsed</th>\n",
       "    </tr>\n",
       "  </thead>\n",
       "  <tbody>\n",
       "    <tr>\n",
       "      <th>0</th>\n",
       "      <td>na</td>\n",
       "      <td>tech</td>\n",
       "      <td>na</td>\n",
       "      <td>Markets Tech Media Success Perspectives Videos...</td>\n",
       "      <td>market tech media success perspectives videos ...</td>\n",
       "    </tr>\n",
       "    <tr>\n",
       "      <th>1</th>\n",
       "      <td>na</td>\n",
       "      <td>tech</td>\n",
       "      <td>na</td>\n",
       "      <td>Full Episode Tuesday , Sep 7 Close Menu PBS Ne...</td>\n",
       "      <td>full episode tuesday  sep 7 close menu pbs new...</td>\n",
       "    </tr>\n",
       "    <tr>\n",
       "      <th>2</th>\n",
       "      <td>na</td>\n",
       "      <td>tech</td>\n",
       "      <td>na</td>\n",
       "      <td>Accessibility links Skip main content Keyboard...</td>\n",
       "      <td>accessibility link skip main content keyboard ...</td>\n",
       "    </tr>\n",
       "    <tr>\n",
       "      <th>3</th>\n",
       "      <td>na</td>\n",
       "      <td>tech</td>\n",
       "      <td>na</td>\n",
       "      <td>Skip main content Search Brookings About Us Pr...</td>\n",
       "      <td>skip main content search brook  us press room ...</td>\n",
       "    </tr>\n",
       "  </tbody>\n",
       "</table>\n",
       "</div>"
      ],
      "text/plain": [
       "  FileName Category Complete_Filename  \\\n",
       "0       na     tech                na   \n",
       "1       na     tech                na   \n",
       "2       na     tech                na   \n",
       "3       na     tech                na   \n",
       "\n",
       "                                             Content  \\\n",
       "0  Markets Tech Media Success Perspectives Videos...   \n",
       "1  Full Episode Tuesday , Sep 7 Close Menu PBS Ne...   \n",
       "2  Accessibility links Skip main content Keyboard...   \n",
       "3  Skip main content Search Brookings About Us Pr...   \n",
       "\n",
       "                                      Content_Parsed  \n",
       "0  market tech media success perspectives videos ...  \n",
       "1  full episode tuesday  sep 7 close menu pbs new...  \n",
       "2  accessibility link skip main content keyboard ...  \n",
       "3  skip main content search brook  us press room ...  "
      ]
     },
     "execution_count": 29,
     "metadata": {},
     "output_type": "execute_result"
    }
   ],
   "source": [
    "df.head()"
   ]
  },
  {
   "cell_type": "markdown",
   "metadata": {},
   "source": [
    "**IMPORTANT:**\n",
    "\n",
    "We need to remember that our model will gather the latest news articles from different newspapers every time we want. For that reason, we not only need to take into account the peculiarities of the training set articles, but also possible ones that are present in the gathered news articles.\n",
    "\n",
    "For this reason, possible peculiarities have been studied in the *05. News Scraping* folder."
   ]
  },
  {
   "cell_type": "markdown",
   "metadata": {},
   "source": [
    "## 2. Label coding"
   ]
  },
  {
   "cell_type": "markdown",
   "metadata": {},
   "source": [
    "We'll create a dictionary with the label codification:"
   ]
  },
  {
   "cell_type": "code",
   "execution_count": 30,
   "metadata": {},
   "outputs": [],
   "source": [
    "category_codes = {\n",
    "    'business': 0,\n",
    "    'entertainment': 1,\n",
    "    'politics': 2,\n",
    "    'sport': 3,\n",
    "    'tech': 4\n",
    "}"
   ]
  },
  {
   "cell_type": "code",
   "execution_count": 31,
   "metadata": {},
   "outputs": [],
   "source": [
    "# Category mapping\n",
    "df['Category_Code'] = df['Category']\n",
    "df = df.replace({'Category_Code':category_codes})"
   ]
  },
  {
   "cell_type": "code",
   "execution_count": 32,
   "metadata": {
    "scrolled": true
   },
   "outputs": [
    {
     "data": {
      "text/html": [
       "<div>\n",
       "<style scoped>\n",
       "    .dataframe tbody tr th:only-of-type {\n",
       "        vertical-align: middle;\n",
       "    }\n",
       "\n",
       "    .dataframe tbody tr th {\n",
       "        vertical-align: top;\n",
       "    }\n",
       "\n",
       "    .dataframe thead th {\n",
       "        text-align: right;\n",
       "    }\n",
       "</style>\n",
       "<table border=\"1\" class=\"dataframe\">\n",
       "  <thead>\n",
       "    <tr style=\"text-align: right;\">\n",
       "      <th></th>\n",
       "      <th>FileName</th>\n",
       "      <th>Category</th>\n",
       "      <th>Complete_Filename</th>\n",
       "      <th>Content</th>\n",
       "      <th>Content_Parsed</th>\n",
       "      <th>Category_Code</th>\n",
       "    </tr>\n",
       "  </thead>\n",
       "  <tbody>\n",
       "    <tr>\n",
       "      <th>0</th>\n",
       "      <td>na</td>\n",
       "      <td>tech</td>\n",
       "      <td>na</td>\n",
       "      <td>Markets Tech Media Success Perspectives Videos...</td>\n",
       "      <td>market tech media success perspectives videos ...</td>\n",
       "      <td>4</td>\n",
       "    </tr>\n",
       "    <tr>\n",
       "      <th>1</th>\n",
       "      <td>na</td>\n",
       "      <td>tech</td>\n",
       "      <td>na</td>\n",
       "      <td>Full Episode Tuesday , Sep 7 Close Menu PBS Ne...</td>\n",
       "      <td>full episode tuesday  sep 7 close menu pbs new...</td>\n",
       "      <td>4</td>\n",
       "    </tr>\n",
       "    <tr>\n",
       "      <th>2</th>\n",
       "      <td>na</td>\n",
       "      <td>tech</td>\n",
       "      <td>na</td>\n",
       "      <td>Accessibility links Skip main content Keyboard...</td>\n",
       "      <td>accessibility link skip main content keyboard ...</td>\n",
       "      <td>4</td>\n",
       "    </tr>\n",
       "    <tr>\n",
       "      <th>3</th>\n",
       "      <td>na</td>\n",
       "      <td>tech</td>\n",
       "      <td>na</td>\n",
       "      <td>Skip main content Search Brookings About Us Pr...</td>\n",
       "      <td>skip main content search brook  us press room ...</td>\n",
       "      <td>4</td>\n",
       "    </tr>\n",
       "  </tbody>\n",
       "</table>\n",
       "</div>"
      ],
      "text/plain": [
       "  FileName Category Complete_Filename  \\\n",
       "0       na     tech                na   \n",
       "1       na     tech                na   \n",
       "2       na     tech                na   \n",
       "3       na     tech                na   \n",
       "\n",
       "                                             Content  \\\n",
       "0  Markets Tech Media Success Perspectives Videos...   \n",
       "1  Full Episode Tuesday , Sep 7 Close Menu PBS Ne...   \n",
       "2  Accessibility links Skip main content Keyboard...   \n",
       "3  Skip main content Search Brookings About Us Pr...   \n",
       "\n",
       "                                      Content_Parsed  Category_Code  \n",
       "0  market tech media success perspectives videos ...              4  \n",
       "1  full episode tuesday  sep 7 close menu pbs new...              4  \n",
       "2  accessibility link skip main content keyboard ...              4  \n",
       "3  skip main content search brook  us press room ...              4  "
      ]
     },
     "execution_count": 32,
     "metadata": {},
     "output_type": "execute_result"
    }
   ],
   "source": [
    "df.head()"
   ]
  },
  {
   "cell_type": "markdown",
   "metadata": {},
   "source": [
    "## 3. Train - test split"
   ]
  },
  {
   "cell_type": "code",
   "execution_count": 33,
   "metadata": {},
   "outputs": [],
   "source": [
    "# Create the train/test datasets.\n",
    "X_train, X_test, y_train, y_test = train_test_split(df['Content_Parsed'], \n",
    "                                                    df['Category_Code'], \n",
    "                                                    test_size=0.15, \n",
    "                                                    random_state=8)"
   ]
  },
  {
   "cell_type": "code",
   "execution_count": 33,
   "metadata": {},
   "outputs": [
    {
     "data": {
      "text/plain": [
       "(3,)"
      ]
     },
     "execution_count": 33,
     "metadata": {},
     "output_type": "execute_result"
    }
   ],
   "source": [
    "# Output the training dimensions\n",
    "X_train.shape"
   ]
  },
  {
   "cell_type": "markdown",
   "metadata": {},
   "source": [
    "Since we don't have much observations (only 2.225), we'll choose a test set size of 15% of the full dataset."
   ]
  },
  {
   "cell_type": "markdown",
   "metadata": {},
   "source": [
    "## 4. Text representation"
   ]
  },
  {
   "cell_type": "markdown",
   "metadata": {},
   "source": [
    "We have various options:\n",
    "\n",
    "* Count Vectors as features\n",
    "* TF-IDF Vectors as features\n",
    "* Word Embeddings as features\n",
    "* Text / NLP based features\n",
    "* Topic Models as features"
   ]
  },
  {
   "cell_type": "markdown",
   "metadata": {},
   "source": [
    "We'll use **TF-IDF Vectors** as features."
   ]
  },
  {
   "cell_type": "markdown",
   "metadata": {},
   "source": [
    "We have to define the different parameters:\n",
    "\n",
    "* `ngram_range`: We want to consider both unigrams and bigrams.\n",
    "* `max_df`: When building the vocabulary ignore terms that have a document\n",
    "    frequency strictly higher than the given threshold\n",
    "* `min_df`: When building the vocabulary ignore terms that have a document\n",
    "    frequency strictly lower than the given threshold.\n",
    "* `max_features`: If not None, build a vocabulary that only consider the top\n",
    "    max_features ordered by term frequency across the corpus.\n",
    "\n",
    "See `TfidfVectorizer?` for further detail."
   ]
  },
  {
   "cell_type": "markdown",
   "metadata": {},
   "source": [
    "It needs to be mentioned that we are implicitly scaling our data when representing it as TF-IDF features with the argument `norm`."
   ]
  },
  {
   "cell_type": "code",
   "execution_count": 34,
   "metadata": {},
   "outputs": [],
   "source": [
    "# Parameter election\n",
    "ngram_range = (1,2)\n",
    "min_df = 3\n",
    "max_df = 1.\n",
    "max_features = 300"
   ]
  },
  {
   "cell_type": "markdown",
   "metadata": {},
   "source": [
    "We have chosen these values as a first approximation. Since the models that we develop later have a very good predictive power, we'll stick to these values. But it has to be mentioned that different combinations could be tried in order to improve even more the accuracy of the models."
   ]
  },
  {
   "cell_type": "code",
   "execution_count": 35,
   "metadata": {
    "scrolled": true
   },
   "outputs": [
    {
     "name": "stdout",
     "output_type": "stream",
     "text": [
      "(3, 78)\n",
      "(1, 78)\n"
     ]
    }
   ],
   "source": [
    "tfidf = TfidfVectorizer(encoding='utf-8',\n",
    "                        ngram_range=ngram_range,\n",
    "                        stop_words=None,\n",
    "                        lowercase=False,\n",
    "                        max_df=max_df,\n",
    "                        min_df=min_df,\n",
    "                        max_features=max_features,\n",
    "                        norm='l2',\n",
    "                        sublinear_tf=True)\n",
    "                        \n",
    "features_train = tfidf.fit_transform(X_train).toarray()\n",
    "labels_train = y_train\n",
    "print(features_train.shape)\n",
    "\n",
    "features_test = tfidf.transform(X_test).toarray()\n",
    "labels_test = y_test\n",
    "print(features_test.shape)"
   ]
  },
  {
   "cell_type": "markdown",
   "metadata": {},
   "source": [
    "Please note that we have fitted and then transformed the training set, but we have **only transformed** the **test set**."
   ]
  },
  {
   "cell_type": "markdown",
   "metadata": {},
   "source": [
    "We can use the Chi squared test in order to see what unigrams and bigrams are most correlated with each category:"
   ]
  },
  {
   "cell_type": "code",
   "execution_count": 36,
   "metadata": {},
   "outputs": [
    {
     "name": "stdout",
     "output_type": "stream",
     "text": [
      "# 'business' category:\n",
      "  . Most correlated unigrams:\n",
      ". economy\n",
      ". driving\n",
      ". drive\n",
      ". front\n",
      ". years\n",
      "  . Most correlated bigrams:\n",
      ". self driving\n",
      ". autonomous drive\n",
      "\n",
      "# 'entertainment' category:\n",
      "  . Most correlated unigrams:\n",
      ". economy\n",
      ". driving\n",
      ". drive\n",
      ". front\n",
      ". years\n",
      "  . Most correlated bigrams:\n",
      ". self driving\n",
      ". autonomous drive\n",
      "\n",
      "# 'politics' category:\n",
      "  . Most correlated unigrams:\n",
      ". economy\n",
      ". driving\n",
      ". drive\n",
      ". front\n",
      ". years\n",
      "  . Most correlated bigrams:\n",
      ". self driving\n",
      ". autonomous drive\n",
      "\n",
      "# 'sport' category:\n",
      "  . Most correlated unigrams:\n",
      ". economy\n",
      ". driving\n",
      ". drive\n",
      ". front\n",
      ". years\n",
      "  . Most correlated bigrams:\n",
      ". self driving\n",
      ". autonomous drive\n",
      "\n",
      "# 'tech' category:\n",
      "  . Most correlated unigrams:\n",
      ". economy\n",
      ". driving\n",
      ". drive\n",
      ". front\n",
      ". years\n",
      "  . Most correlated bigrams:\n",
      ". self driving\n",
      ". autonomous drive\n",
      "\n"
     ]
    }
   ],
   "source": [
    "from sklearn.feature_selection import chi2\n",
    "import numpy as np\n",
    "\n",
    "for Product, category_id in sorted(category_codes.items()):\n",
    "    features_chi2 = chi2(features_train, labels_train == category_id)\n",
    "    indices = np.argsort(features_chi2[0])\n",
    "    feature_names = np.array(tfidf.get_feature_names())[indices]\n",
    "    unigrams = [v for v in feature_names if len(v.split(' ')) == 1]\n",
    "    bigrams = [v for v in feature_names if len(v.split(' ')) == 2]\n",
    "    print(\"# '{}' category:\".format(Product))\n",
    "    print(\"  . Most correlated unigrams:\\n. {}\".format('\\n. '.join(unigrams[-5:])))\n",
    "    print(\"  . Most correlated bigrams:\\n. {}\".format('\\n. '.join(bigrams[-2:])))\n",
    "    print(\"\")\n"
   ]
  },
  {
   "cell_type": "markdown",
   "metadata": {},
   "source": [
    "As we can see, the unigrams correspond well to their category. However, bigrams do not. If we get the bigrams in our features:"
   ]
  },
  {
   "cell_type": "code",
   "execution_count": 37,
   "metadata": {},
   "outputs": [
    {
     "data": {
      "text/plain": [
       "['self driving', 'autonomous drive']"
      ]
     },
     "execution_count": 37,
     "metadata": {},
     "output_type": "execute_result"
    }
   ],
   "source": [
    "bigrams"
   ]
  },
  {
   "cell_type": "markdown",
   "metadata": {},
   "source": [
    "We can see there are only six. This means the unigrams have more correlation with the category than the bigrams, and since we're restricting the number of features to the most representative 300, only a few bigrams are being considered."
   ]
  },
  {
   "cell_type": "markdown",
   "metadata": {},
   "source": [
    "Let's save the files we'll need in the next steps:"
   ]
  },
  {
   "cell_type": "code",
   "execution_count": 38,
   "metadata": {},
   "outputs": [],
   "source": [
    "# X_train\n",
    "with open('Pickles/X_train.pickle', 'wb') as output:\n",
    "    pickle.dump(X_train, output)\n",
    "    \n",
    "# X_test    \n",
    "with open('Pickles/X_test.pickle', 'wb') as output:\n",
    "    pickle.dump(X_test, output)\n",
    "    \n",
    "# y_train\n",
    "with open('Pickles/y_train.pickle', 'wb') as output:\n",
    "    pickle.dump(y_train, output)\n",
    "    \n",
    "# y_test\n",
    "with open('Pickles/y_test.pickle', 'wb') as output:\n",
    "    pickle.dump(y_test, output)\n",
    "    \n",
    "# df\n",
    "with open('Pickles/df.pickle', 'wb') as output:\n",
    "    pickle.dump(df, output)\n",
    "    \n",
    "# features_train\n",
    "with open('Pickles/features_train.pickle', 'wb') as output:\n",
    "    pickle.dump(features_train, output)\n",
    "\n",
    "# labels_train\n",
    "with open('Pickles/labels_train.pickle', 'wb') as output:\n",
    "    pickle.dump(labels_train, output)\n",
    "\n",
    "# features_test\n",
    "with open('Pickles/features_test.pickle', 'wb') as output:\n",
    "    pickle.dump(features_test, output)\n",
    "\n",
    "# labels_test\n",
    "with open('Pickles/labels_test.pickle', 'wb') as output:\n",
    "    pickle.dump(labels_test, output)\n",
    "    \n",
    "# TF-IDF object\n",
    "with open('Pickles/tfidf.pickle', 'wb') as output:\n",
    "    pickle.dump(tfidf, output)"
   ]
  },
  {
   "cell_type": "code",
   "execution_count": null,
   "metadata": {},
   "outputs": [],
   "source": []
  }
 ],
 "metadata": {
  "kernelspec": {
   "display_name": "Python 3",
   "language": "python",
   "name": "python3"
  },
  "language_info": {
   "codemirror_mode": {
    "name": "ipython",
    "version": 3
   },
   "file_extension": ".py",
   "mimetype": "text/x-python",
   "name": "python",
   "nbconvert_exporter": "python",
   "pygments_lexer": "ipython3",
   "version": "3.8.5"
  }
 },
 "nbformat": 4,
 "nbformat_minor": 2
}
