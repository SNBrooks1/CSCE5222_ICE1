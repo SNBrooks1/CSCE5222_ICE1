{
 "cells": [
  {
   "cell_type": "markdown",
   "metadata": {},
   "source": [
    "### Making Predictions With Our Model"
   ]
  },
  {
   "cell_type": "markdown",
   "metadata": {},
   "source": [
    "#### Imports"
   ]
  },
  {
   "cell_type": "code",
   "execution_count": 30,
   "metadata": {},
   "outputs": [],
   "source": [
    "import pickle\n",
    "import pandas as pd\n",
    "import nltk\n",
    "from nltk.corpus import stopwords\n",
    "from nltk.tokenize import punkt\n",
    "from nltk.corpus.reader import wordnet\n",
    "from nltk.stem import WordNetLemmatizer\n",
    "from sklearn.feature_extraction.text import TfidfVectorizer"
   ]
  },
  {
   "cell_type": "markdown",
   "metadata": {},
   "source": [
    "#### Import the dataframe for the AVArticles."
   ]
  },
  {
   "cell_type": "code",
   "execution_count": 38,
   "metadata": {},
   "outputs": [
    {
     "data": {
      "text/html": [
       "<div>\n",
       "<style scoped>\n",
       "    .dataframe tbody tr th:only-of-type {\n",
       "        vertical-align: middle;\n",
       "    }\n",
       "\n",
       "    .dataframe tbody tr th {\n",
       "        vertical-align: top;\n",
       "    }\n",
       "\n",
       "    .dataframe thead th {\n",
       "        text-align: right;\n",
       "    }\n",
       "</style>\n",
       "<table border=\"1\" class=\"dataframe\">\n",
       "  <thead>\n",
       "    <tr style=\"text-align: right;\">\n",
       "      <th></th>\n",
       "      <th>FileName</th>\n",
       "      <th>Category</th>\n",
       "      <th>Complete_Filename</th>\n",
       "      <th>Content</th>\n",
       "      <th>Content_Parsed</th>\n",
       "      <th>Category_Code</th>\n",
       "    </tr>\n",
       "  </thead>\n",
       "  <tbody>\n",
       "    <tr>\n",
       "      <th>0</th>\n",
       "      <td>na</td>\n",
       "      <td>tech</td>\n",
       "      <td>na</td>\n",
       "      <td>Markets Tech Media Success Perspectives Videos...</td>\n",
       "      <td>market tech media success perspectives videos ...</td>\n",
       "      <td>4</td>\n",
       "    </tr>\n",
       "    <tr>\n",
       "      <th>1</th>\n",
       "      <td>na</td>\n",
       "      <td>tech</td>\n",
       "      <td>na</td>\n",
       "      <td>Full Episode Tuesday , Sep 7 Close Menu PBS Ne...</td>\n",
       "      <td>full episode tuesday  sep 7 close menu pbs new...</td>\n",
       "      <td>4</td>\n",
       "    </tr>\n",
       "    <tr>\n",
       "      <th>2</th>\n",
       "      <td>na</td>\n",
       "      <td>tech</td>\n",
       "      <td>na</td>\n",
       "      <td>Accessibility links Skip main content Keyboard...</td>\n",
       "      <td>accessibility link skip main content keyboard ...</td>\n",
       "      <td>4</td>\n",
       "    </tr>\n",
       "    <tr>\n",
       "      <th>3</th>\n",
       "      <td>na</td>\n",
       "      <td>tech</td>\n",
       "      <td>na</td>\n",
       "      <td>Skip main content Search Brookings About Us Pr...</td>\n",
       "      <td>skip main content search brook  us press room ...</td>\n",
       "      <td>4</td>\n",
       "    </tr>\n",
       "  </tbody>\n",
       "</table>\n",
       "</div>"
      ],
      "text/plain": [
       "  FileName Category Complete_Filename  \\\n",
       "0       na     tech                na   \n",
       "1       na     tech                na   \n",
       "2       na     tech                na   \n",
       "3       na     tech                na   \n",
       "\n",
       "                                             Content  \\\n",
       "0  Markets Tech Media Success Perspectives Videos...   \n",
       "1  Full Episode Tuesday , Sep 7 Close Menu PBS Ne...   \n",
       "2  Accessibility links Skip main content Keyboard...   \n",
       "3  Skip main content Search Brookings About Us Pr...   \n",
       "\n",
       "                                      Content_Parsed  Category_Code  \n",
       "0  market tech media success perspectives videos ...              4  \n",
       "1  full episode tuesday  sep 7 close menu pbs new...              4  \n",
       "2  accessibility link skip main content keyboard ...              4  \n",
       "3  skip main content search brook  us press room ...              4  "
      ]
     },
     "execution_count": 38,
     "metadata": {},
     "output_type": "execute_result"
    }
   ],
   "source": [
    "# Import the dataframe\n",
    "df1 = pd.read_pickle('../03. Feature Engineering/Pickles/df.pickle')\n",
    "\n",
    "# Output a few rows.\n",
    "df1.head()"
   ]
  },
  {
   "cell_type": "markdown",
   "metadata": {},
   "source": [
    "#### Trained models"
   ]
  },
  {
   "cell_type": "code",
   "execution_count": 33,
   "metadata": {},
   "outputs": [
    {
     "name": "stderr",
     "output_type": "stream",
     "text": [
      "D:\\Anaconda3\\lib\\site-packages\\sklearn\\base.py:329: UserWarning: Trying to unpickle estimator SVC from version 0.19.1 when using version 0.23.2. This might lead to breaking code or invalid results. Use at your own risk.\n",
      "  warnings.warn(\n"
     ]
    }
   ],
   "source": [
    "# Set the model file path\n",
    "file_svcModel = \"../04. Model Training/Model/best_svc.pickle\"\n",
    "\n",
    "# Load the model.\n",
    "with open(file_svcModel, 'rb') as data:\n",
    "    svc_model = pickle.load(data)"
   ]
  },
  {
   "cell_type": "markdown",
   "metadata": {},
   "source": [
    "#### TF-IDF object"
   ]
  },
  {
   "cell_type": "code",
   "execution_count": 14,
   "metadata": {},
   "outputs": [],
   "source": [
    "# Set the file path\n",
    "path_tfidf = \"../03. Feature Engineering/PicklesBBCNews/tfidf.pickle\"\n",
    "\n",
    "# Load the tfidf data.\n",
    "with open(path_tfidf, 'rb') as data:\n",
    "    tfidf = pickle.load(data)"
   ]
  },
  {
   "cell_type": "markdown",
   "metadata": {},
   "source": [
    "#### Category mapping dictionary"
   ]
  },
  {
   "cell_type": "code",
   "execution_count": 15,
   "metadata": {},
   "outputs": [],
   "source": [
    "# Set the dictionary\n",
    "category_codes = {\n",
    "    'business': 0,\n",
    "    'entertainment': 1,\n",
    "    'politics': 2,\n",
    "    'sport': 3,\n",
    "    'tech': 4\n",
    "}"
   ]
  },
  {
   "cell_type": "markdown",
   "metadata": {},
   "source": [
    "#### Feature engineering workflow"
   ]
  },
  {
   "cell_type": "code",
   "execution_count": 16,
   "metadata": {},
   "outputs": [],
   "source": [
    "# Identify puntuation and stop words.\n",
    "punctuation_signs = list(\"?:!.,;\")\n",
    "stop_words = list(stopwords.words('english'))\n",
    "\n",
    "# This function performs text cleaning to prep the string for nlp\n",
    "# processes\n",
    "def create_features_from_text(text):\n",
    "    \n",
    "    # Dataframe creation\n",
    "    lemmatized_text_list = []\n",
    "    df = pd.DataFrame(columns=['Content'])\n",
    "    df.loc[0] = text\n",
    "    \n",
    "    # Removes \\r, \\n, whitespaces, and possesive punctuations \n",
    "    # and sets to column Content_Parsed_1\n",
    "    df['Content_Parsed_1'] = df['Content'].str.replace(\"\\r\", \" \")\n",
    "    df['Content_Parsed_1'] = df['Content_Parsed_1'].str.replace(\"\\n\", \" \")\n",
    "    df['Content_Parsed_1'] = df['Content_Parsed_1'].str.replace(\"    \", \" \")\n",
    "    df['Content_Parsed_1'] = df['Content_Parsed_1'].str.replace('\"', '')\n",
    "    \n",
    "    # Creates column Content_Parsed_1 from lowercase valuse of Content_Parsed_1.\n",
    "    df['Content_Parsed_2'] = df['Content_Parsed_1'].str.lower()\n",
    "    df['Content_Parsed_3'] = df['Content_Parsed_2']\n",
    "    \n",
    "    # Removes punctuation signs in column Content_Parsed_3.\n",
    "    for punct_sign in punctuation_signs:\n",
    "        df['Content_Parsed_3'] = df['Content_Parsed_3'].str.replace(punct_sign, '')\n",
    "        \n",
    "    # Creates Content_Parsed_4 from possessive's removal Content_Parsed_3.\n",
    "    df['Content_Parsed_4'] = df['Content_Parsed_3'].str.replace(\"'s\", \"\")\n",
    "    \n",
    "    # Performs lemmatization and creates an empty list.\n",
    "    wordnet_lemmatizer = WordNetLemmatizer()\n",
    "    lemmatized_list = []\n",
    "    \n",
    "    # Sets text to the first row of column Content_Parsed_4 and\n",
    "    # splits the text to text_words.\n",
    "    text = df.loc[0]['Content_Parsed_4']\n",
    "    text_words = text.split(\" \")\n",
    "    \n",
    "    # Each word in text_words is lemmatized and appended to\n",
    "    # lemmatized_list list.\n",
    "    for word in text_words:\n",
    "        lemmatized_list.append(wordnet_lemmatizer.lemmatize(word, pos=\"v\"))\n",
    "        \n",
    "    lemmatized_text = \" \".join(lemmatized_list)    \n",
    "    lemmatized_text_list.append(lemmatized_text)\n",
    "    df['Content_Parsed_5'] = lemmatized_text_list\n",
    "    df['Content_Parsed_6'] = df['Content_Parsed_5']\n",
    "    \n",
    "    # regex_stopword is removed in each stop_word in stop_words.\n",
    "    for stop_word in stop_words:\n",
    "        regex_stopword = r\"\\b\" + stop_word + r\"\\b\"\n",
    "        df['Content_Parsed_6'] = df['Content_Parsed_6'].str.replace(regex_stopword, '')\n",
    "    \n",
    "    # Dataframe, df, is created from column, Content_Parsed_6.\n",
    "    df = df['Content_Parsed_6']\n",
    "    \n",
    "    # Dataframe column, Content_Parsed_6, is renamed to Content_Parsed.\n",
    "    df = df.rename(columns={'Content_Parsed_6': 'Content_Parsed'})\n",
    "    \n",
    "    # Sets features as an array of tfidf.\n",
    "    features = tfidf.transform(df).toarray()\n",
    "    \n",
    "    return features"
   ]
  },
  {
   "cell_type": "markdown",
   "metadata": {},
   "source": [
    "Now let's write a function that tells us the category given the category code:"
   ]
  },
  {
   "cell_type": "code",
   "execution_count": 17,
   "metadata": {},
   "outputs": [],
   "source": [
    "# Function that takes in the category_id number and returns the \n",
    "# category name string.\n",
    "def get_category_name(category_id):\n",
    "    for category, id_ in category_codes.items():    \n",
    "        if id_ == category_id:\n",
    "            return category"
   ]
  },
  {
   "cell_type": "markdown",
   "metadata": {},
   "source": [
    "Finally, let's write a function that includes the whole process:"
   ]
  },
  {
   "cell_type": "code",
   "execution_count": 18,
   "metadata": {},
   "outputs": [],
   "source": [
    "# Function that, given a string, uses the model to perform\n",
    "# a category prediction and outputs the results.\n",
    "def predict_from_text(text):\n",
    "    \n",
    "    # Predict using the input model\n",
    "    prediction_svc = svc_model.predict(create_features_from_text(text))[0]\n",
    "    prediction_svc_proba = svc_model.predict_proba(create_features_from_text(text))[0]\n",
    "    \n",
    "    # Return result\n",
    "    category_svc = get_category_name(prediction_svc)\n",
    "    \n",
    "    # Output the result message.\n",
    "    print(\"The predicted category using the SVM model is %s.\" %(category_svc) )\n",
    "    print(\"The conditional probability is: %a\" %(prediction_svc_proba.max()*100))"
   ]
  },
  {
   "cell_type": "markdown",
   "metadata": {},
   "source": [
    "### Text introduction and prediction\n",
    "\n",
    "#### *************This is as far as I got. I couldn't get the original dataframes content to a string to move on to the next step."
   ]
  },
  {
   "cell_type": "code",
   "execution_count": 37,
   "metadata": {},
   "outputs": [
    {
     "data": {
      "text/plain": [
       "\"Markets Tech Media Success Perspectives Videos Edition U.S. International Arabic Español Markets Tech Media Success Perspectives Videos Search Edition U.S. International Arabic Español Markets Premarkets Dow After-Hours Market Movers Fear & Greed World Markets Investing Markets Now Before Bell Leading Indicator Global Energy Challenge Economy Tracking America 's Recovery Energy Money Tech Innovate Gadget Foreseeable Future Mission : Ahead Upstarts Business Evolved Innovative Cities Unhackable Media Reliable Sources Success Boss Files Risk Takers Fresh Money Invest Ahead Work Transformed Cars Homes Wealth Coach Center Piece Perspectives Videos International Switzerland India Davos Reliable Sources Passion Portfolio On : Germany More Accessibility & CC About Us Newsletters US World Politics Business Opinion Health Entertainment Tech Style Travel Sports Videos Audio Coupons Weather More Follow CNN Business Your self-driving car still n't ready . Smarter roads might change By Matt McFarland , CNN Business Updated 11:45 AM ET , Fri March 5 , 2021 JUST WATCHED Tesla invests $ 1.5 billion bitcoin Replay More Videos ... MUST WATCH ( 16 Videos ) Tesla invests $ 1.5 billion bitcoin Audi 's self-driving concept car makes front seats first class See new retro-styled 2023 Nissan Z Jeep 's Grand Wagoneer takes luxury road See Audi 's new shape-shifting concept car works Lamborghini reinvents icon 's all-new hybrid Countach Aston Martin reveals topless Valkyrie hypercar See first self-driving car take spin NYC streets Watch new Ford Bronco go way road See Ferrari 's new plug-in hybrid Check Airstream 's first all-terrain adventure van Meet Maverick , Ford 's compact $ 20k truck This boat-inspired Rolls-Royce could expensive new car ever Check new electric Ford F-150 Lightning See new all-electric EQS luxury sedan Mercedes These tiny cars cute easy park . Will anyone want ? Washington , DC ( CNN ) Jaime Waydo spent years building self-driving cars Waymo , quick praise abilities . The cars already experience 300 years average driving experience , said 2017 interview . Waymo 's self-driving cars could see 360 degrees , noted , humans could see 120 degrees . `` [ The cars ] also see two football fields away , significantly better vision I probably , '' Waydo told interviewer 2017 . But recent interview CNN Business , Waydo spoke challenges limits self-driving cars , like identifying puddles , seeing clearly sun low horizon . She said years working self-driving showed unusual things happen roads , make difficult even advanced artificial intelligence react appropriately myriad new scenarios might encounter . A Waymo self-driving car saw baby crawling road , recalled . ( The baby fine , according Waydo . ) Waydo , left role lead systems engineer Waymo 2018 work autonomous systems Apple , joining Cavnue , startup making digital infrastructure intended help self-driving cars understand roads , actually drive better human . A US Department Transportation illustration shows vehicle infrastructure technology designed function improve road safety . Roads , signs traffic lights designed governments expected humans would drive cars . A bright green light may easiest way tell human 's safe drive ahead , self-driving car may better information messaged radio cellular network . As task developing rolling self-driving cars started look slower difficult expected , autonomous driving executives like Waydo increasingly warming idea retrofitting infrastructure get roads faster . But critics say technology unproven costs could expensive governments already struggling cost simple road upkeep , like filling potholes . Read More For years , self-driving car companies operated belief technology current road infrastructure would enough , cars would n't need dedicated vehicle-to-infrastructure technology , traffic lights broadcast color directly vehicle 's computer , cameras mounted blind turns light posts get crucial information cars , like cyclist approaching . But self-driving proved harder get ground expected . Companies missed deadlines deployments . The industry consolidated , even company big Uber selling self-driving vehicle program . Other startups shut sold big tech companies . Jaime Waydo , longtime self-driving car engineer , joined Cavnue develop smart technology help autonomous vehicles drive safe . Waydo wants self-driving technology spread broadly people like father , said lives rural area Parkinson 's Disease , benefit technology . ( Waymo , owned Google parent company Alphabet , operates self-driving robotaxi service part Phoenix , Arizona , n't expanded across country . ) She 's alone coming around merits smart infrastructure . Michael Fleming , CEO self-driving truck company Torc Robotics , Daimler owns majority stake , said company expects announce smart infrastructure partnerships year . He 's working autonomous vehicles since competing 2004 government-sponsored race 's widely credited kicking self-driving car industry . `` There lot uncertainty far technical solutions made amount sense , '' Fleming told CNN Business . `` When first started really n't know . Today , I 'm convinced . '' Michigan plans redesign stretch road self-driving cars He says smart infrastructure , like traffic signal broadcasts color , advantage simpler artificial intelligence algorithms companies use perceive things like red green lights . Waydo recalled Waymo expanded Texas , adjust traffic lights horizontal , requiring work engineers . With smart infrastructure , said , traffic lights seem self-driving cars , making easier launch cars new places . Eryk Nice , vice president technology strategy Hyundai 's self-driving venture Motional , believer smart infrastructure speed fast self-driving cars arrive public . For example , self-driving vehicles struggle navigate parking garages , sensors mounted garage could tell cars exactly . Vehicle-to infrastructure technology ambitious goal . Cavnue competitors develop cost-effective sensors hung along roadsides capable communicating nearby cars . Maintenance costs need manageable . The company said 's planning technology cheaper cost lighting roadway . Waydo declined say specifically type sensors may used . But critics holding ground . Kyle Vogt , founder Cruise , GM 's self-driving operation , said 2014 , `` job [ vehicle-to-infrastructure ] right , probably look new one . '' Vogt described hurdles technology proving works installation , getting local communities support installing convincing local governments pay . Cruise spokeswoman Tiffany Testo told CNN Business Vogt 's views n't changed . She pointed progress self-driving cars compared smart infrastructure indication 's needed . Vogt n't alone concerns . Paul Godsmark , co-founder Canadian Automated Vehicle Centre Excellence , recalled US federal government pushed connecting cars infrastructure via short-range radios , auto industry n't embrace technology . `` The [ Department Transportation ] backed wrong horse , '' Godsmark said . `` We know tech moves faster public sector . '' Chandler , Arizona , home Waymo 's self-driving ridehail service , says n't installed infrastructure especially self-driving cars . Micah Miranda , Chandler 's economic development director , told CNN Business currently technology seems like inefficient use capital self-driving vehicles n't used broadly , 's unclear infrastructure technology would best n't standardized . `` Tearing roads , light poles , kind stuff , cost infrastructure expensive , '' Miranda said . `` We make sure capital dollars going serving broadest portion population transportation needs . '' The largest players self-driving — Waymo , Cruise , Aurora , acquired Uber 's self-driving arm — say vehicles n't rely smart infrastructure today . They also declined say believe smart infrastructure would speed ability deploy self-driving cars cities . But Waymo 's parent company Alphabet may hedging bets . Cavnue founded Sidewalk Infrastructure Partners , funded Alphabet . In February , Cavnue selected help alleviate congestion Maryland highway outside Washington DC , Interstate 270 . Cavnue work project Australian infrastructure company Transurban , selected Maryland Department Transportation chose Cavnue . Rob Deans , Transurban 's vice president technology , said company impressed Cavnue 's experience connected autonomous vehicles . `` Autonomous vehicles probably single biggest change coming transport , '' told CNN Business . `` I think opportunity leverage Alphabet , leader subsidiary spinout , Waymo . '' Waymo part Cavnue 's advisory team smart road project outside Detroit . Cavnue CEO Tyler Duvall said business model may rely tolls road access , payments road n't congested . Cavnue 's team small today , 14 people , according Duvall . But plans grow , said 's finding significant interest , conversations eight governments . `` There 's insatiable interest innovation , '' said transportation officials . `` It 's build team fast enough bring idea . '' Search US Crime + Justice Energy + Environment Extreme Weather Space + Science World Africa Americas Asia Australia China Europe India Middle East United Kingdom Politics The Biden Presidency Facts First US Elections Business Markets Tech Media Success Perspectives Videos Opinion Political Op-Eds Social Commentary Health Life , But Better Fitness Food Sleep Mindfulness Relationships Entertainment Stars Screen Binge Culture Media Tech Innovate Gadget Foreseeable Future Mission : Ahead Upstarts Work Transformed Innovative Cities Style Arts Design Fashion Architecture Luxury Beauty Video Travel Destinations Food Drink Stay News Videos Sports Pro Football College Football Basketball Baseball Soccer Tokyo 2020 Videos Live TV Digital Studios CNN Films HLN TV Schedule TV Shows A-Z CNNVR Audio Coupons CNN Underscored Explore Wellness Gadgets Lifestyle CNN Store Weather Climate Storm Tracker Wildfire Tracker Video More Photos Longform Investigations CNN Profiles CNN Leadership CNN Newsletters Work CNN Follow CNN Business Most stock quote data provided BATS . Market indices shown real time , except DJIA , delayed two minutes . All times ET . Disclaimer . Morningstar : Copyright 2018 Morningstar , Inc. All Rights Reserved . Factset : FactSet Research Systems Inc.2018 . All rights reserved . Chicago Mercantile Association : Certain market data property Chicago Mercantile Exchange Inc. licensors . All rights reserved . Dow Jones : The Dow Jones branded indices proprietary calculated , distributed marketed DJI Opco , subsidiary S & P Dow Jones Indices LLC licensed use S & P Opco , LLC CNN . Standard & Poor 's S & P registered trademarks Standard & Poor 's Financial Services LLC Dow Jones registered trademark Dow Jones Trademark Holdings LLC . All content Dow Jones branded indices Copyright S & P Dow Jones Indices LLC 2018 and/or affiliates . Terms Use Privacy Policy Accessibility & CC AdChoices About Us CNN Store Newsletters Transcripts License Footage CNN Newsource Sitemap © 2021 Cable News Network . A Warner Media Company . All Rights Reserved . CNN Sans ™ & © 2016 Cable News Network .\""
      ]
     },
     "execution_count": 37,
     "metadata": {},
     "output_type": "execute_result"
    }
   ],
   "source": [
    "text=df1.loc[0]['Content']\n",
    "text"
   ]
  },
  {
   "cell_type": "code",
   "execution_count": 36,
   "metadata": {},
   "outputs": [
    {
     "ename": "TypeError",
     "evalue": "rename() got an unexpected keyword argument 'columns'",
     "output_type": "error",
     "traceback": [
      "\u001b[1;31m---------------------------------------------------------------------------\u001b[0m",
      "\u001b[1;31mTypeError\u001b[0m                                 Traceback (most recent call last)",
      "\u001b[1;32m<ipython-input-36-41a9d15835b8>\u001b[0m in \u001b[0;36m<module>\u001b[1;34m\u001b[0m\n\u001b[1;32m----> 1\u001b[1;33m \u001b[0mpredict_from_text\u001b[0m\u001b[1;33m(\u001b[0m\u001b[0mtext\u001b[0m\u001b[1;33m)\u001b[0m\u001b[1;33m\u001b[0m\u001b[1;33m\u001b[0m\u001b[0m\n\u001b[0m",
      "\u001b[1;32m<ipython-input-18-12498bf8716b>\u001b[0m in \u001b[0;36mpredict_from_text\u001b[1;34m(text)\u001b[0m\n\u001b[0;32m      2\u001b[0m \u001b[1;33m\u001b[0m\u001b[0m\n\u001b[0;32m      3\u001b[0m     \u001b[1;31m# Predict using the input model\u001b[0m\u001b[1;33m\u001b[0m\u001b[1;33m\u001b[0m\u001b[1;33m\u001b[0m\u001b[0m\n\u001b[1;32m----> 4\u001b[1;33m     \u001b[0mprediction_svc\u001b[0m \u001b[1;33m=\u001b[0m \u001b[0msvc_model\u001b[0m\u001b[1;33m.\u001b[0m\u001b[0mpredict\u001b[0m\u001b[1;33m(\u001b[0m\u001b[0mcreate_features_from_text\u001b[0m\u001b[1;33m(\u001b[0m\u001b[0mtext\u001b[0m\u001b[1;33m)\u001b[0m\u001b[1;33m)\u001b[0m\u001b[1;33m[\u001b[0m\u001b[1;36m0\u001b[0m\u001b[1;33m]\u001b[0m\u001b[1;33m\u001b[0m\u001b[1;33m\u001b[0m\u001b[0m\n\u001b[0m\u001b[0;32m      5\u001b[0m     \u001b[0mprediction_svc_proba\u001b[0m \u001b[1;33m=\u001b[0m \u001b[0msvc_model\u001b[0m\u001b[1;33m.\u001b[0m\u001b[0mpredict_proba\u001b[0m\u001b[1;33m(\u001b[0m\u001b[0mcreate_features_from_text\u001b[0m\u001b[1;33m(\u001b[0m\u001b[0mtext\u001b[0m\u001b[1;33m)\u001b[0m\u001b[1;33m)\u001b[0m\u001b[1;33m[\u001b[0m\u001b[1;36m0\u001b[0m\u001b[1;33m]\u001b[0m\u001b[1;33m\u001b[0m\u001b[1;33m\u001b[0m\u001b[0m\n\u001b[0;32m      6\u001b[0m \u001b[1;33m\u001b[0m\u001b[0m\n",
      "\u001b[1;32m<ipython-input-16-aa942da04545>\u001b[0m in \u001b[0;36mcreate_features_from_text\u001b[1;34m(text)\u001b[0m\n\u001b[0;32m     31\u001b[0m         \u001b[0mdf\u001b[0m\u001b[1;33m[\u001b[0m\u001b[1;34m'Content_Parsed_6'\u001b[0m\u001b[1;33m]\u001b[0m \u001b[1;33m=\u001b[0m \u001b[0mdf\u001b[0m\u001b[1;33m[\u001b[0m\u001b[1;34m'Content_Parsed_6'\u001b[0m\u001b[1;33m]\u001b[0m\u001b[1;33m.\u001b[0m\u001b[0mstr\u001b[0m\u001b[1;33m.\u001b[0m\u001b[0mreplace\u001b[0m\u001b[1;33m(\u001b[0m\u001b[0mregex_stopword\u001b[0m\u001b[1;33m,\u001b[0m \u001b[1;34m''\u001b[0m\u001b[1;33m)\u001b[0m\u001b[1;33m\u001b[0m\u001b[1;33m\u001b[0m\u001b[0m\n\u001b[0;32m     32\u001b[0m     \u001b[0mdf\u001b[0m \u001b[1;33m=\u001b[0m \u001b[0mdf\u001b[0m\u001b[1;33m[\u001b[0m\u001b[1;34m'Content_Parsed_6'\u001b[0m\u001b[1;33m]\u001b[0m\u001b[1;33m\u001b[0m\u001b[1;33m\u001b[0m\u001b[0m\n\u001b[1;32m---> 33\u001b[1;33m     \u001b[0mdf\u001b[0m \u001b[1;33m=\u001b[0m \u001b[0mdf\u001b[0m\u001b[1;33m.\u001b[0m\u001b[0mrename\u001b[0m\u001b[1;33m(\u001b[0m\u001b[0mcolumns\u001b[0m\u001b[1;33m=\u001b[0m\u001b[1;33m{\u001b[0m\u001b[1;34m'Content_Parsed_6'\u001b[0m\u001b[1;33m:\u001b[0m \u001b[1;34m'Content_Parsed'\u001b[0m\u001b[1;33m}\u001b[0m\u001b[1;33m)\u001b[0m\u001b[1;33m\u001b[0m\u001b[1;33m\u001b[0m\u001b[0m\n\u001b[0m\u001b[0;32m     34\u001b[0m \u001b[1;33m\u001b[0m\u001b[0m\n\u001b[0;32m     35\u001b[0m     \u001b[1;31m# TF-IDF\u001b[0m\u001b[1;33m\u001b[0m\u001b[1;33m\u001b[0m\u001b[1;33m\u001b[0m\u001b[0m\n",
      "\u001b[1;31mTypeError\u001b[0m: rename() got an unexpected keyword argument 'columns'"
     ]
    }
   ],
   "source": [
    "predict_from_text(text)"
   ]
  },
  {
   "cell_type": "code",
   "execution_count": null,
   "metadata": {},
   "outputs": [],
   "source": []
  }
 ],
 "metadata": {
  "kernelspec": {
   "display_name": "Python 3",
   "language": "python",
   "name": "python3"
  },
  "language_info": {
   "codemirror_mode": {
    "name": "ipython",
    "version": 3
   },
   "file_extension": ".py",
   "mimetype": "text/x-python",
   "name": "python",
   "nbconvert_exporter": "python",
   "pygments_lexer": "ipython3",
   "version": "3.8.5"
  }
 },
 "nbformat": 4,
 "nbformat_minor": 2
}
